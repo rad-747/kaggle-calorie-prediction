{
 "cells": [
  {
   "cell_type": "code",
   "execution_count": 1,
   "id": "4f39b066-14e1-4b0b-b90a-d74435317a3c",
   "metadata": {},
   "outputs": [],
   "source": [
    "import pandas as pd\n",
    "import numpy as np\n",
    "train = pd.read_csv(\"/Users/radhikapanchal/Downloads/playground-series-s5e5/train.csv\")\n",
    "test= pd.read_csv('/Users/radhikapanchal/Downloads/playground-series-s5e5/test.csv')\n",
    "train_df = pd.read_csv(\"/Users/radhikapanchal/Downloads/playground-series-s5e5/train.csv\")\n",
    "test_df= pd.read_csv('/Users/radhikapanchal/Downloads/playground-series-s5e5/test.csv')"
   ]
  },
  {
   "cell_type": "code",
   "execution_count": null,
   "id": "b158fe68-5612-4f2d-a5e7-b185cca29c01",
   "metadata": {},
   "outputs": [],
   "source": []
  },
  {
   "cell_type": "code",
   "execution_count": 2,
   "id": "58eacd18-91c9-4d3b-b27d-57704a38ab87",
   "metadata": {},
   "outputs": [
    {
     "name": "stderr",
     "output_type": "stream",
     "text": [
      "/Users/radhikapanchal/anaconda3/lib/python3.11/site-packages/xgboost/sklearn.py:835: UserWarning: `early_stopping_rounds` in `fit` method is deprecated for better compatibility with scikit-learn, use `early_stopping_rounds` in constructor or`set_params` instead.\n",
      "  warnings.warn(\n"
     ]
    },
    {
     "name": "stdout",
     "output_type": "stream",
     "text": [
      "Training until validation scores don't improve for 200 rounds\n",
      "Did not meet early stopping. Best iteration is:\n",
      "[2924]\tvalid_0's rmse: 0.0600593\n"
     ]
    },
    {
     "name": "stderr",
     "output_type": "stream",
     "text": [
      "/Users/radhikapanchal/anaconda3/lib/python3.11/site-packages/xgboost/sklearn.py:835: UserWarning: `early_stopping_rounds` in `fit` method is deprecated for better compatibility with scikit-learn, use `early_stopping_rounds` in constructor or`set_params` instead.\n",
      "  warnings.warn(\n"
     ]
    },
    {
     "name": "stdout",
     "output_type": "stream",
     "text": [
      "Training until validation scores don't improve for 200 rounds\n",
      "Early stopping, best iteration is:\n",
      "[2509]\tvalid_0's rmse: 0.0619918\n"
     ]
    },
    {
     "name": "stderr",
     "output_type": "stream",
     "text": [
      "/Users/radhikapanchal/anaconda3/lib/python3.11/site-packages/xgboost/sklearn.py:835: UserWarning: `early_stopping_rounds` in `fit` method is deprecated for better compatibility with scikit-learn, use `early_stopping_rounds` in constructor or`set_params` instead.\n",
      "  warnings.warn(\n"
     ]
    },
    {
     "name": "stdout",
     "output_type": "stream",
     "text": [
      "Training until validation scores don't improve for 200 rounds\n",
      "Did not meet early stopping. Best iteration is:\n",
      "[2999]\tvalid_0's rmse: 0.0607605\n"
     ]
    },
    {
     "name": "stderr",
     "output_type": "stream",
     "text": [
      "/Users/radhikapanchal/anaconda3/lib/python3.11/site-packages/xgboost/sklearn.py:835: UserWarning: `early_stopping_rounds` in `fit` method is deprecated for better compatibility with scikit-learn, use `early_stopping_rounds` in constructor or`set_params` instead.\n",
      "  warnings.warn(\n"
     ]
    },
    {
     "name": "stdout",
     "output_type": "stream",
     "text": [
      "Training until validation scores don't improve for 200 rounds\n",
      "Did not meet early stopping. Best iteration is:\n",
      "[3000]\tvalid_0's rmse: 0.0609457\n"
     ]
    },
    {
     "name": "stderr",
     "output_type": "stream",
     "text": [
      "/Users/radhikapanchal/anaconda3/lib/python3.11/site-packages/xgboost/sklearn.py:835: UserWarning: `early_stopping_rounds` in `fit` method is deprecated for better compatibility with scikit-learn, use `early_stopping_rounds` in constructor or`set_params` instead.\n",
      "  warnings.warn(\n"
     ]
    },
    {
     "name": "stdout",
     "output_type": "stream",
     "text": [
      "Training until validation scores don't improve for 200 rounds\n",
      "Early stopping, best iteration is:\n",
      "[2196]\tvalid_0's rmse: 0.0605047\n",
      "✅ Saved 'submission.csv'\n"
     ]
    }
   ],
   "source": [
    "import pandas as pd\n",
    "import numpy as np\n",
    "from sklearn.model_selection import KFold\n",
    "from sklearn.linear_model import Ridge\n",
    "from sklearn.preprocessing import LabelEncoder\n",
    "from catboost import CatBoostRegressor\n",
    "from xgboost import XGBRegressor\n",
    "import lightgbm as lgb\n",
    "\n",
    "# ---------------------------\n",
    "# Load Data\n",
    "\n",
    "\n",
    "# ---------------------------\n",
    "# Feature Engineering\n",
    "# ---------------------------\n",
    "def feature_engineering(df):\n",
    "    df['Intensity_Index'] = df['Heart_Rate'] / df['Duration']\n",
    "    df['Age'] = np.log1p(df['Age'])\n",
    "    df['Body_Temp'] = np.log1p(df['Body_Temp'])\n",
    "\n",
    "    df['BMR'] = (\n",
    "        10 * df['Weight'] +\n",
    "        6.25 * df['Height'] -\n",
    "        5 * df['Age'] +\n",
    "        np.where(df['Sex'] == 'male', 5, -161)\n",
    "    )\n",
    "\n",
    "    df['HR_Temp_Interaction'] = df['Heart_Rate'] * df['Body_Temp']\n",
    "    df['HR_Duration_Interaction'] = df['Heart_Rate'] * df['Duration']\n",
    "    df['Metabolic_Load'] = df['Heart_Rate'] * df['Body_Temp'] * df['Duration']\n",
    "    df['Age_Duration'] = df['Age'] * df['Duration']\n",
    "    df['Age_Body_Temp'] = df['Age'] * df['Body_Temp']\n",
    "    df['Duration_Body_Temp'] = df['Duration'] * df['Body_Temp']\n",
    "    df['Age_Duration_Temp'] = df['Age'] * df['Duration'] * df['Body_Temp']\n",
    "    df['Height_Weight'] = df['Height'] * df['Weight']\n",
    "    df['Height_Duration'] = df['Height'] * df['Duration']\n",
    "    df['Weight_Duration'] = df['Weight'] * df['Duration']\n",
    "    df['Weight_HeartRate'] = df['Weight'] * df['Heart_Rate']\n",
    "    df['Weight_BodyTemp'] = df['Weight'] * df['Body_Temp']\n",
    "    df['Height_Temp_Interaction'] = df['Height'] * df['Body_Temp']\n",
    "    df['Weight_Duration_Temp'] = df['Weight'] * df['Duration'] * df['Body_Temp']\n",
    "    df['Height_Duration_Temp'] = df['Height'] * df['Duration'] * df['Body_Temp']\n",
    "    df['Weight_HR_Duration'] = df['Weight'] * df['Heart_Rate'] * df['Duration']\n",
    "    df['Height_HR_Duration'] = df['Height'] * df['Heart_Rate'] * df['Duration']\n",
    "    df['Weight_Intensity_Index'] = df['Weight'] * df['Intensity_Index']\n",
    "    df['Height_Intensity_Index'] = df['Height'] * df['Intensity_Index']\n",
    "    df['Weight_HR_Temp_Interaction'] = df['Weight'] * df['HR_Temp_Interaction']\n",
    "    df['Height_HR_Temp_Interaction'] = df['Height'] * df['HR_Temp_Interaction']\n",
    "\n",
    "    if 'Calories' in df.columns:\n",
    "        df['Calories'] = np.log1p(df['Calories'])\n",
    "\n",
    "    return df\n",
    "\n",
    "train_df = feature_engineering(train_df)\n",
    "test_df = feature_engineering(test_df)\n",
    "\n",
    "# ---------------------------\n",
    "# Encode categorical\n",
    "# ---------------------------\n",
    "le = LabelEncoder()\n",
    "train_df['Sex'] = le.fit_transform(train_df['Sex'])\n",
    "test_df['Sex'] = le.transform(test_df['Sex'])\n",
    "\n",
    "features = [col for col in train_df.columns if col not in ['id', 'Calories']]\n",
    "X = train_df[features]\n",
    "y = train_df['Calories']\n",
    "X_test = test_df[features]\n",
    "\n",
    "# ---------------------------\n",
    "# Model Parameters\n",
    "# ---------------------------\n",
    "cat_params = {\n",
    "    'max_depth': 6, 'l2_leaf_reg': 2, 'learning_rate': 0.03,\n",
    "    'bagging_temperature': 0.08, 'border_count': 222,\n",
    "    'loss_function': 'RMSE', 'random_state': 42, 'iterations': 4000\n",
    "}\n",
    "\n",
    "\n",
    "xgb_params = {\n",
    "    'max_depth': 10, 'n_estimators': 3000, 'learning_rate': 0.07,\n",
    "    'gamma': 0.01, 'max_delta_step': 2, 'eval_metric': 'rmse',\n",
    "    'enable_categorical': False, 'random_state': 42,\n",
    "    'tree_method': 'hist', 'n_jobs': -1\n",
    "}\n",
    "\n",
    "lgbm_params = {\n",
    "    'objective': 'regression_l1', 'metric': 'rmse', 'n_estimators': 3000,\n",
    "    'learning_rate': 0.05, 'feature_fraction': 0.8, 'bagging_fraction': 0.8,\n",
    "    'bagging_freq': 1, 'lambda_l1': 0.1, 'lambda_l2': 0.1,\n",
    "    'num_leaves': 64, 'verbose': -1, 'n_jobs': -1, 'seed': 42\n",
    "}\n",
    "\n",
    "\n",
    "# ---------------------------\n",
    "# Cross-Validation and Stacking\n",
    "# ---------------------------\n",
    "kf = KFold(n_splits=5, shuffle=True, random_state=42)\n",
    "\n",
    "oof_cat = np.zeros(len(X))\n",
    "oof_xgb = np.zeros(len(X))\n",
    "oof_lgbm = np.zeros(len(X))\n",
    "test_cat = np.zeros(len(X_test))\n",
    "test_xgb = np.zeros(len(X_test))\n",
    "test_lgbm = np.zeros(len(X_test))\n",
    "\n",
    "for train_idx, val_idx in kf.split(X):\n",
    "    X_train, X_val = X.iloc[train_idx], X.iloc[val_idx]\n",
    "    y_train, y_val = y.iloc[train_idx], y.iloc[val_idx]\n",
    "\n",
    "    # CatBoost\n",
    "    cat = CatBoostRegressor(**cat_params)\n",
    "    cat.fit(X_train, y_train, cat_features=['Sex'], eval_set=(X_val, y_val), verbose=0)\n",
    "    oof_cat[val_idx] = cat.predict(X_val)\n",
    "    test_cat += cat.predict(X_test) / kf.n_splits\n",
    "\n",
    "    # XGBoost\n",
    "    xgb = XGBRegressor(**xgb_params)\n",
    "    xgb.fit(X_train, y_train, eval_set=[(X_val, y_val)], early_stopping_rounds=200, verbose=0)\n",
    "    oof_xgb[val_idx] = xgb.predict(X_val)\n",
    "    test_xgb += xgb.predict(X_test) / kf.n_splits\n",
    "\n",
    "    # LightGBM\n",
    "    lgbm = lgb.LGBMRegressor(**lgbm_params)\n",
    "    lgbm.fit(X_train, y_train, eval_set=[(X_val, y_val)],\n",
    "             callbacks=[lgb.early_stopping(200), lgb.log_evaluation(0)])\n",
    "    oof_lgbm[val_idx] = lgbm.predict(X_val)\n",
    "    test_lgbm += lgbm.predict(X_test) / kf.n_splits\n",
    "\n",
    "# ---------------------------\n",
    "# Meta-Model: Ridge Regression\n",
    "# ---------------------------\n",
    "meta_X = np.vstack([oof_cat, oof_xgb, oof_lgbm]).T\n",
    "meta_test = np.vstack([test_cat, test_xgb, test_lgbm]).T\n",
    "\n",
    "meta_model = Ridge(alpha=0.01)       # ✅ often best\n",
    "meta_model.fit(meta_X, y)\n",
    "final_preds = meta_model.predict(meta_test)\n",
    "final_preds = np.expm1(final_preds.clip(min=0))\n",
    "\n",
    "# ---------------------------\n",
    "# Save submission\n",
    "# ---------------------------\n",
    "submission = pd.DataFrame({'id': test_df['id'], 'Calories': final_preds})\n",
    "submission.to_csv(\"submission.csv\", index=False)\n",
    "print(\"✅ Saved 'submission.csv'\")\n"
   ]
  },
  {
   "cell_type": "code",
   "execution_count": null,
   "id": "1a61be32-af47-47c0-8a5d-63b62bc97c0b",
   "metadata": {},
   "outputs": [],
   "source": []
  },
  {
   "cell_type": "code",
   "execution_count": null,
   "id": "54321ae9-e39a-488c-aeab-348c800e47be",
   "metadata": {},
   "outputs": [],
   "source": []
  },
  {
   "cell_type": "code",
   "execution_count": null,
   "id": "c6df14bf-685d-4cdd-8464-f5d8d371cdc7",
   "metadata": {},
   "outputs": [],
   "source": []
  },
  {
   "cell_type": "code",
   "execution_count": null,
   "id": "4defa7e4-0b7a-4b21-948d-947f2b1ba504",
   "metadata": {},
   "outputs": [],
   "source": []
  }
 ],
 "metadata": {
  "kernelspec": {
   "display_name": "Python 3 (ipykernel)",
   "language": "python",
   "name": "python3"
  },
  "language_info": {
   "codemirror_mode": {
    "name": "ipython",
    "version": 3
   },
   "file_extension": ".py",
   "mimetype": "text/x-python",
   "name": "python",
   "nbconvert_exporter": "python",
   "pygments_lexer": "ipython3",
   "version": "3.11.11"
  }
 },
 "nbformat": 4,
 "nbformat_minor": 5
}
